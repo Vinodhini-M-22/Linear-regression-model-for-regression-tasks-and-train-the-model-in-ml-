{
 "cells": [
  {
   "cell_type": "code",
   "execution_count": 3,
   "id": "7a54126f",
   "metadata": {},
   "outputs": [
    {
     "name": "stdout",
     "output_type": "stream",
     "text": [
      "emter the size of the house in sqft:2200\n",
      "enter the number of bedrooms:4\n",
      "predicted price for a house with size2200.0 sqft and4 bedrooms: Rs.532655.74\n"
     ]
    }
   ],
   "source": [
    "import numpy as np\n",
    "from sklearn.linear_model import LinearRegression\n",
    "\n",
    "X=np.array([[1000,2],[1500,3],[1200,2],[1800,4],[900,2],[2000,3]])\n",
    "y=np.array([300000,400000,350000,500000,280000,450000])\n",
    "model = LinearRegression()\n",
    "\n",
    "model.fit(X,y)\n",
    "\n",
    "size = float(input(\"emter the size of the house in sqft:\"))\n",
    "bedrooms = int(input(\"enter the number of bedrooms:\"))\n",
    "new_data=np.array([[size,bedrooms]])\n",
    "\n",
    "predicted_price=model.predict(new_data)\n",
    "\n",
    "print(\"predicted price for a house with size{} sqft and{} bedrooms: Rs.{:.2f}\".format(size,bedrooms,predicted_price[0]))"
   ]
  },
  {
   "cell_type": "code",
   "execution_count": null,
   "id": "688d69c8",
   "metadata": {},
   "outputs": [],
   "source": []
  }
 ],
 "metadata": {
  "kernelspec": {
   "display_name": "Python 3 (ipykernel)",
   "language": "python",
   "name": "python3"
  },
  "language_info": {
   "codemirror_mode": {
    "name": "ipython",
    "version": 3
   },
   "file_extension": ".py",
   "mimetype": "text/x-python",
   "name": "python",
   "nbconvert_exporter": "python",
   "pygments_lexer": "ipython3",
   "version": "3.11.5"
  }
 },
 "nbformat": 4,
 "nbformat_minor": 5
}
